{
 "cells": [
  {
   "cell_type": "code",
   "execution_count": 1,
   "id": "front-worship",
   "metadata": {},
   "outputs": [],
   "source": [
    "import numpy as np\n",
    "import matplotlib.pyplot as plt\n",
    "from sklearn.model_selection import train_test_split\n",
    "from tensorflow.keras.datasets import mnist\n",
    "from tensorflow.keras.utils import to_categorical\n",
    "from tensorflow.keras.models import Sequential\n",
    "from tensorflow.keras.layers import Flatten, Dense\n",
    "from tensorflow.keras.callbacks import TensorBoard"
   ]
  },
  {
   "cell_type": "code",
   "execution_count": 2,
   "id": "industrial-outreach",
   "metadata": {},
   "outputs": [
    {
     "name": "stdout",
     "output_type": "stream",
     "text": [
      "Epoch 1/10\n",
      "1688/1688 [==============================] - 13s 6ms/step - loss: 1.0863 - accuracy: 0.7019 - val_loss: 0.4199 - val_accuracy: 0.8817\n",
      "Epoch 2/10\n",
      "1688/1688 [==============================] - 8s 5ms/step - loss: 0.3730 - accuracy: 0.8972 - val_loss: 0.3521 - val_accuracy: 0.8980\n",
      "Epoch 3/10\n",
      "1688/1688 [==============================] - 8s 5ms/step - loss: 0.3188 - accuracy: 0.9102 - val_loss: 0.3225 - val_accuracy: 0.9077\n",
      "Epoch 4/10\n",
      "1688/1688 [==============================] - 9s 5ms/step - loss: 0.2984 - accuracy: 0.9153 - val_loss: 0.2964 - val_accuracy: 0.9152\n",
      "Epoch 5/10\n",
      "1688/1688 [==============================] - 9s 6ms/step - loss: 0.2722 - accuracy: 0.9231 - val_loss: 0.2789 - val_accuracy: 0.9223\n",
      "Epoch 6/10\n",
      "1688/1688 [==============================] - 9s 6ms/step - loss: 0.2512 - accuracy: 0.9291 - val_loss: 0.2626 - val_accuracy: 0.9277\n",
      "Epoch 7/10\n",
      "1688/1688 [==============================] - 9s 5ms/step - loss: 0.2303 - accuracy: 0.9341 - val_loss: 0.2503 - val_accuracy: 0.9305\n",
      "Epoch 8/10\n",
      "1688/1688 [==============================] - 10s 6ms/step - loss: 0.2215 - accuracy: 0.9389 - val_loss: 0.2375 - val_accuracy: 0.9348\n",
      "Epoch 9/10\n",
      "1688/1688 [==============================] - 8s 5ms/step - loss: 0.2112 - accuracy: 0.9413 - val_loss: 0.2285 - val_accuracy: 0.9363\n",
      "Epoch 10/10\n",
      "1688/1688 [==============================] - 8s 5ms/step - loss: 0.1973 - accuracy: 0.9446 - val_loss: 0.2190 - val_accuracy: 0.9390\n",
      "Loss:  0.19131332635879517\n",
      "Accuracy:  0.9448999762535095\n"
     ]
    }
   ],
   "source": [
    "import sys\n",
    "sys.path.append(\"../code\")\n",
    "from mlp2 import neural_network_classification \n",
    "\n",
    "neural_network_classification(datafile=mnist.load_data(), model_name = \"modelEX1\", batch_size=32, epochs=10, \n",
    "                              hidden_layers=1, neurons=64)"
   ]
  },
  {
   "cell_type": "code",
   "execution_count": 3,
   "id": "taken-greene",
   "metadata": {},
   "outputs": [
    {
     "name": "stdout",
     "output_type": "stream",
     "text": [
      "Epoch 1/20\n",
      "1688/1688 [==============================] - 10s 6ms/step - loss: 1.1311 - accuracy: 0.6908 - val_loss: 0.4142 - val_accuracy: 0.8837\n",
      "Epoch 2/20\n",
      "1688/1688 [==============================] - 9s 6ms/step - loss: 0.3696 - accuracy: 0.8988 - val_loss: 0.3493 - val_accuracy: 0.8983\n",
      "Epoch 3/20\n",
      "1688/1688 [==============================] - 8s 5ms/step - loss: 0.3157 - accuracy: 0.9105 - val_loss: 0.3151 - val_accuracy: 0.9068\n",
      "Epoch 4/20\n",
      "1688/1688 [==============================] - 10s 6ms/step - loss: 0.2821 - accuracy: 0.9193 - val_loss: 0.2891 - val_accuracy: 0.9163\n",
      "Epoch 5/20\n",
      "1688/1688 [==============================] - 9s 5ms/step - loss: 0.2617 - accuracy: 0.9272 - val_loss: 0.2690 - val_accuracy: 0.9237\n",
      "Epoch 6/20\n",
      "1688/1688 [==============================] - 7s 4ms/step - loss: 0.2377 - accuracy: 0.9325 - val_loss: 0.2516 - val_accuracy: 0.9283\n",
      "Epoch 7/20\n",
      "1688/1688 [==============================] - 7s 4ms/step - loss: 0.2217 - accuracy: 0.9372 - val_loss: 0.2375 - val_accuracy: 0.9318\n",
      "Epoch 8/20\n",
      "1688/1688 [==============================] - 7s 4ms/step - loss: 0.2044 - accuracy: 0.9436 - val_loss: 0.2248 - val_accuracy: 0.9355\n",
      "Epoch 9/20\n",
      "1688/1688 [==============================] - 8s 5ms/step - loss: 0.1969 - accuracy: 0.9450 - val_loss: 0.2144 - val_accuracy: 0.9387\n",
      "Epoch 10/20\n",
      "1688/1688 [==============================] - 9s 6ms/step - loss: 0.1897 - accuracy: 0.9471 - val_loss: 0.2050 - val_accuracy: 0.9418\n",
      "Epoch 11/20\n",
      "1688/1688 [==============================] - 8s 5ms/step - loss: 0.1793 - accuracy: 0.9498 - val_loss: 0.1945 - val_accuracy: 0.9430\n",
      "Epoch 12/20\n",
      "1688/1688 [==============================] - 8s 5ms/step - loss: 0.1739 - accuracy: 0.9514 - val_loss: 0.1860 - val_accuracy: 0.9450\n",
      "Epoch 13/20\n",
      "1688/1688 [==============================] - 8s 5ms/step - loss: 0.1601 - accuracy: 0.9553 - val_loss: 0.1804 - val_accuracy: 0.9468\n",
      "Epoch 14/20\n",
      "1688/1688 [==============================] - 8s 5ms/step - loss: 0.1557 - accuracy: 0.9569 - val_loss: 0.1736 - val_accuracy: 0.9488\n",
      "Epoch 15/20\n",
      "1688/1688 [==============================] - 8s 5ms/step - loss: 0.1507 - accuracy: 0.9568 - val_loss: 0.1677 - val_accuracy: 0.9510\n",
      "Epoch 16/20\n",
      "1688/1688 [==============================] - 8s 5ms/step - loss: 0.1422 - accuracy: 0.9604 - val_loss: 0.1635 - val_accuracy: 0.9525\n",
      "Epoch 17/20\n",
      "1688/1688 [==============================] - 10s 6ms/step - loss: 0.1339 - accuracy: 0.9621 - val_loss: 0.1579 - val_accuracy: 0.9538\n",
      "Epoch 18/20\n",
      "1688/1688 [==============================] - 7s 4ms/step - loss: 0.1335 - accuracy: 0.9629 - val_loss: 0.1532 - val_accuracy: 0.9563\n",
      "Epoch 19/20\n",
      "1688/1688 [==============================] - 7s 4ms/step - loss: 0.1252 - accuracy: 0.9654 - val_loss: 0.1487 - val_accuracy: 0.9583\n",
      "Epoch 20/20\n",
      "1688/1688 [==============================] - 7s 4ms/step - loss: 0.1236 - accuracy: 0.9663 - val_loss: 0.1451 - val_accuracy: 0.9587\n",
      "Loss:  0.13419346511363983\n",
      "Accuracy:  0.9607999920845032\n"
     ]
    }
   ],
   "source": [
    "neural_network_classification(datafile=mnist.load_data(), model_name = \"modelEX1\", batch_size=32, epochs=20, \n",
    "                              hidden_layers=1, neurons=64)"
   ]
  },
  {
   "cell_type": "code",
   "execution_count": 4,
   "id": "existing-kitty",
   "metadata": {},
   "outputs": [
    {
     "name": "stdout",
     "output_type": "stream",
     "text": [
      "Epoch 1/10\n",
      "844/844 [==============================] - 5s 5ms/step - loss: 1.4072 - accuracy: 0.6309 - val_loss: 0.5315 - val_accuracy: 0.8622\n",
      "Epoch 2/10\n",
      "844/844 [==============================] - 4s 4ms/step - loss: 0.4743 - accuracy: 0.8764 - val_loss: 0.4128 - val_accuracy: 0.8845\n",
      "Epoch 3/10\n",
      "844/844 [==============================] - 4s 4ms/step - loss: 0.3843 - accuracy: 0.8971 - val_loss: 0.3695 - val_accuracy: 0.8945\n",
      "Epoch 4/10\n",
      "844/844 [==============================] - 4s 4ms/step - loss: 0.3438 - accuracy: 0.9054 - val_loss: 0.3418 - val_accuracy: 0.9032\n",
      "Epoch 5/10\n",
      "844/844 [==============================] - 3s 4ms/step - loss: 0.3212 - accuracy: 0.9102 - val_loss: 0.3227 - val_accuracy: 0.9073\n",
      "Epoch 6/10\n",
      "844/844 [==============================] - 4s 4ms/step - loss: 0.2925 - accuracy: 0.9189 - val_loss: 0.3074 - val_accuracy: 0.9118\n",
      "Epoch 7/10\n",
      "844/844 [==============================] - 4s 4ms/step - loss: 0.2845 - accuracy: 0.9205 - val_loss: 0.2938 - val_accuracy: 0.9155\n",
      "Epoch 8/10\n",
      "844/844 [==============================] - 3s 4ms/step - loss: 0.2725 - accuracy: 0.9243 - val_loss: 0.2825 - val_accuracy: 0.9182\n",
      "Epoch 9/10\n",
      "844/844 [==============================] - 3s 4ms/step - loss: 0.2597 - accuracy: 0.9286 - val_loss: 0.2719 - val_accuracy: 0.9208\n",
      "Epoch 10/10\n",
      "844/844 [==============================] - 3s 4ms/step - loss: 0.2534 - accuracy: 0.9301 - val_loss: 0.2637 - val_accuracy: 0.9222\n",
      "Loss:  0.23934291303157806\n",
      "Accuracy:  0.9329000115394592\n"
     ]
    }
   ],
   "source": [
    "neural_network_classification(datafile=mnist.load_data(), model_name = \"modelEX1\", batch_size=64, epochs=10, \n",
    "                              hidden_layers=1, neurons=64)"
   ]
  },
  {
   "cell_type": "code",
   "execution_count": 5,
   "id": "polyphonic-isaac",
   "metadata": {},
   "outputs": [
    {
     "name": "stdout",
     "output_type": "stream",
     "text": [
      "Epoch 1/20\n",
      "844/844 [==============================] - 5s 6ms/step - loss: 1.5029 - accuracy: 0.5821 - val_loss: 0.5424 - val_accuracy: 0.8650\n",
      "Epoch 2/20\n",
      "844/844 [==============================] - 4s 4ms/step - loss: 0.4846 - accuracy: 0.8752 - val_loss: 0.4175 - val_accuracy: 0.8888\n",
      "Epoch 3/20\n",
      "844/844 [==============================] - 3s 4ms/step - loss: 0.3809 - accuracy: 0.8954 - val_loss: 0.3718 - val_accuracy: 0.8975\n",
      "Epoch 4/20\n",
      "844/844 [==============================] - 3s 4ms/step - loss: 0.3344 - accuracy: 0.9059 - val_loss: 0.3441 - val_accuracy: 0.9043\n",
      "Epoch 5/20\n",
      "844/844 [==============================] - 4s 4ms/step - loss: 0.3174 - accuracy: 0.9112 - val_loss: 0.3250 - val_accuracy: 0.9065\n",
      "Epoch 6/20\n",
      "844/844 [==============================] - 4s 4ms/step - loss: 0.3025 - accuracy: 0.9151 - val_loss: 0.3108 - val_accuracy: 0.9130\n",
      "Epoch 7/20\n",
      "844/844 [==============================] - 4s 4ms/step - loss: 0.2789 - accuracy: 0.9207 - val_loss: 0.2989 - val_accuracy: 0.9142\n",
      "Epoch 8/20\n",
      "844/844 [==============================] - 4s 4ms/step - loss: 0.2745 - accuracy: 0.9235 - val_loss: 0.2867 - val_accuracy: 0.9203\n",
      "Epoch 9/20\n",
      "844/844 [==============================] - 4s 4ms/step - loss: 0.2616 - accuracy: 0.9262 - val_loss: 0.2753 - val_accuracy: 0.9238\n",
      "Epoch 10/20\n",
      "844/844 [==============================] - 5s 6ms/step - loss: 0.2515 - accuracy: 0.9292 - val_loss: 0.2671 - val_accuracy: 0.9267\n",
      "Epoch 11/20\n",
      "844/844 [==============================] - 5s 6ms/step - loss: 0.2437 - accuracy: 0.9314 - val_loss: 0.2595 - val_accuracy: 0.9297\n",
      "Epoch 12/20\n",
      "844/844 [==============================] - 5s 6ms/step - loss: 0.2391 - accuracy: 0.9337 - val_loss: 0.2523 - val_accuracy: 0.9298\n",
      "Epoch 13/20\n",
      "844/844 [==============================] - 4s 5ms/step - loss: 0.2367 - accuracy: 0.9331 - val_loss: 0.2443 - val_accuracy: 0.9318\n",
      "Epoch 14/20\n",
      "844/844 [==============================] - 4s 5ms/step - loss: 0.2277 - accuracy: 0.9376 - val_loss: 0.2376 - val_accuracy: 0.9342\n",
      "Epoch 15/20\n",
      "844/844 [==============================] - 4s 4ms/step - loss: 0.2131 - accuracy: 0.9396 - val_loss: 0.2328 - val_accuracy: 0.9358\n",
      "Epoch 16/20\n",
      "844/844 [==============================] - 4s 4ms/step - loss: 0.2077 - accuracy: 0.9433 - val_loss: 0.2278 - val_accuracy: 0.9358\n",
      "Epoch 17/20\n",
      "844/844 [==============================] - 4s 5ms/step - loss: 0.2068 - accuracy: 0.9423 - val_loss: 0.2215 - val_accuracy: 0.9375\n",
      "Epoch 18/20\n",
      "844/844 [==============================] - 4s 5ms/step - loss: 0.1948 - accuracy: 0.9471 - val_loss: 0.2173 - val_accuracy: 0.9402\n",
      "Epoch 19/20\n",
      "844/844 [==============================] - 5s 6ms/step - loss: 0.1907 - accuracy: 0.9466 - val_loss: 0.2131 - val_accuracy: 0.9405\n",
      "Epoch 20/20\n",
      "844/844 [==============================] - 4s 5ms/step - loss: 0.1889 - accuracy: 0.9466 - val_loss: 0.2081 - val_accuracy: 0.9395\n",
      "Loss:  0.18517477810382843\n",
      "Accuracy:  0.9477999806404114\n"
     ]
    }
   ],
   "source": [
    "neural_network_classification(datafile=mnist.load_data(), model_name = \"modelEX1\", batch_size=64, epochs=20, \n",
    "                              hidden_layers=1, neurons=64)"
   ]
  },
  {
   "cell_type": "code",
   "execution_count": null,
   "id": "residential-bidding",
   "metadata": {},
   "outputs": [],
   "source": []
  }
 ],
 "metadata": {
  "kernelspec": {
   "display_name": "Python 3",
   "language": "python",
   "name": "python3"
  },
  "language_info": {
   "codemirror_mode": {
    "name": "ipython",
    "version": 3
   },
   "file_extension": ".py",
   "mimetype": "text/x-python",
   "name": "python",
   "nbconvert_exporter": "python",
   "pygments_lexer": "ipython3",
   "version": "3.8.5"
  }
 },
 "nbformat": 4,
 "nbformat_minor": 5
}
